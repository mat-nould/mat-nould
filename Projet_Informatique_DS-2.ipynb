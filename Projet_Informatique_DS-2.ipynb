{
 "cells": [
  {
   "cell_type": "markdown",
   "metadata": {},
   "source": [
    "![alt_text](https://lh3.googleusercontent.com/n7bc_8C-uvlVu0aq1r_MKAkPZpcfJ6ODIOqOaI69M7Y1VCbGEfIR6njC-gccVio-kil5dSTOz6GuuoFJO1AleDc=s0)"
   ]
  },
  {
   "cell_type": "markdown",
   "metadata": {},
   "source": [
    "# 1. Data Science & Supply Chain"
   ]
  },
  {
   "cell_type": "markdown",
   "metadata": {},
   "source": [
    "## 1.2 Qu'est-ce que la Data Science ?"
   ]
  },
  {
   "cell_type": "markdown",
   "metadata": {},
   "source": [
    "### La Data Science est une discipline qui a pour but d'exploiter, de découvrir les tendances qui se cachent derrière les données. C'est une science qui est à la frontière de 3 grands domaines : les mathématiques, le business et l'informatique. On va y retrouver plusieurs grands axes : la collecte des données, le nettoyage, stockage, la modélisation, l'analyse, la visualisation et surtout ... l'interprétation des données. C'est l'art de découvrir les idées et les tendances qui se cachent derrière les données. "
   ]
  },
  {
   "cell_type": "markdown",
   "metadata": {},
   "source": [
    "## 1.2 Quelle utilité et pour quels domaines d'application en Supply Chain ? "
   ]
  },
  {
   "cell_type": "markdown",
   "metadata": {},
   "source": [
    "![alt_text](https://data-flair.training/blogs/wp-content/uploads/sites/2/2019/03/Data-science-for-beginners.jpg)"
   ]
  },
  {
   "cell_type": "markdown",
   "metadata": {},
   "source": [
    "### - Manipulation, stockage et analyse d'enormes volumes de données (Big Data).\n",
    "### - Création et amélioration des modèles de forcasting grâce au Machine Learning. \n",
    "### - Réduction des coûts, amélioration de la performance, minimisation des risques. \n",
    "### - Faire de la maintenance prédictive grâce à l'IA et la reconnaissance visuelle. \n",
    "### - Gestion d'entrepôts connéctés et intelligents grâce à la récolte des données en lien avec l'IoT \n",
    "### - Visualisation et analyse de problèmes au sein de la chaîne logistique. \n",
    "### - Automatisation de tâches à non valeur ajoutée.  \n",
    "### - Outil d'interprétation et d'aide à la décision. "
   ]
  },
  {
   "cell_type": "markdown",
   "metadata": {},
   "source": [
    "![alt_text](https://miro.medium.com/max/2400/0*H68CP7om94B4rQLo.png)"
   ]
  },
  {
   "cell_type": "markdown",
   "metadata": {},
   "source": [
    "![alt_text](https://blogs-images.forbes.com/louiscolumbus/files/2018/06/contextual-intelligence.jpg)"
   ]
  },
  {
   "cell_type": "markdown",
   "metadata": {},
   "source": [
    "# 2. Quels Languages de programmation utiliser en Data Science ? \n",
    "![alt_text](https://www.excelptp.com/wp-content/uploads/2019/08/default-blog-excelptp.jpg) "
   ]
  },
  {
   "cell_type": "markdown",
   "metadata": {},
   "source": [
    "## 2.1 Python \n",
    "![alt_text](https://logos-download.com/wp-content/uploads/2016/10/Python_logo_wordmark.png) \n",
    "\n",
    "### - Indispensable !\n",
    "### - Facile à utiliser \n",
    "### - Nombreux domaines d'application ( POO, IA, Data Science, scripting, logiciel) \n",
    "### - Grande communauté, figure dans le top 3 des languages les plus utilisés au monde.\n",
    "### - Open source et comprenant de nombreuses bibliothèques. "
   ]
  },
  {
   "cell_type": "markdown",
   "metadata": {},
   "source": [
    "## 2.2 SQL \n",
    "\n",
    "![alt_text](https://www.macworld.co.uk/cmsdata/features/3638150/setup_learn_sql_mac_thumb800.jpg)"
   ]
  },
  {
   "cell_type": "markdown",
   "metadata": {},
   "source": [
    "### - Indispensable ! \n",
    "### - Language permettant d'intérragir avec des bases de données de de formuler des requêtes. "
   ]
  },
  {
   "cell_type": "markdown",
   "metadata": {},
   "source": [
    "## 2.3 R\n",
    "![alt_text](https://ict.iitk.ac.in/wp-content/uploads/r-programming-3.jpg)\n",
    "### - Language orienté 100% sur les  statistiques "
   ]
  },
  {
   "cell_type": "markdown",
   "metadata": {},
   "source": [
    "# 3. Les bibliothèques indispensable avec Python en Data Science \n",
    "## Une bibliothèque est un ensemble de modules et de fonctions qui sont regroupées et mises à disposition afin de pouvoir être utilisées sans avoir à les réécrire."
   ]
  },
  {
   "cell_type": "markdown",
   "metadata": {},
   "source": [
    "## 3.2 Numpy - Calcul scientifique et machine learning \n",
    "![alt_text](https://cdn-images-1.medium.com/fit/t/1600/480/1*cyXCE-JcBelTyrK-58w6_Q.png)"
   ]
  },
  {
   "cell_type": "markdown",
   "metadata": {},
   "source": [
    "## 3.3 Scipy - Calcul Scientifique et machine learning \n",
    "\n",
    "![alt_text](https://qcarchive.molssi.org/images/blog/scipy.gif)"
   ]
  },
  {
   "cell_type": "markdown",
   "metadata": {},
   "source": [
    "## 3.1 Pandas - Outil pratique pour l'extraction et l'analyse de données\n",
    "![alt_text](https://s3.amazonaws.com/lintel-blogs-static-files/wp-content/uploads/2019/07/14165137/pandas.jpg)"
   ]
  },
  {
   "cell_type": "markdown",
   "metadata": {},
   "source": [
    "## 3.4 Matplotlib - Data Visualization\n",
    "\n",
    "![alt_text](https://matplotlib.org/_static/logo2_compressed.svg)"
   ]
  },
  {
   "cell_type": "markdown",
   "metadata": {},
   "source": [
    "## 3.5 Seaborn - Data Visualization\n",
    "\n",
    "![alt_text](data:image/png;base64,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)"
   ]
  },
  {
   "cell_type": "markdown",
   "metadata": {},
   "source": [
    "## 3.6 SciKit-Learn - Data Analysis & Data Mining\n",
    "\n",
    "![alt_text](https://scipy-lectures.org/_images/scikit-learn-logo.png)"
   ]
  },
  {
   "cell_type": "markdown",
   "metadata": {},
   "source": [
    "## 3.7 TensorFlow - Deep learning et machine learning \n",
    "\n",
    "![alt_text](https://seeklogo.com/images/T/tensorflow-logo-AE5100E55E-seeklogo.com.png)"
   ]
  },
  {
   "cell_type": "markdown",
   "metadata": {},
   "source": [
    "# 4. Les outils utilisés en Data Science \n",
    "\n",
    "## 4.1 Annaconda - Distribution libre et open source de Python et R \n",
    "\n",
    "![alt_text](https://www.anaconda.com/wp-content/uploads/2018/06/cropped-Anaconda_horizontal_RGB-1-600x102.png)\n",
    "\n",
    "### - Librairies citées au dessus pré-installées ( 7500+ packages ) \n",
    "\n",
    "![alt_text](https://www.anaconda.com/wp-content/uploads/2018/11/distro-01-1.png)"
   ]
  },
  {
   "cell_type": "markdown",
   "metadata": {},
   "source": [
    "## 4.2 Jupyter Notebook - Application Web permettant de programmer dans plus de 40 langages. \n",
    "\n",
    "### - Pré-installé dans Anaconda.\n",
    "### - Interface Web\n",
    "### - Disposition en notebook (code + texte : idéal pour une présentation visuelle en Data Science). \n",
    "\n",
    "![alt_text](https://i0.wp.com/brickodeurs.fr/wp-content/uploads/2019/09/2019-09-24-15_52_11-Project-Jupyter-_-Home-Opera.png?fit=800%2C283&ssl=1)\n",
    "\n"
   ]
  },
  {
   "cell_type": "markdown",
   "metadata": {},
   "source": [
    "## 4.3 Spyder - Environnement complet de développement. \n",
    "### - Pré-installée dans Annaconda\n",
    "### - Plus adapté que Jupyter pour certains développements. \n",
    "### - Plus rapide et efficace avec des aides à la programmation. \n",
    "\n",
    "![alt_text](https://raw.githubusercontent.com/spyder-ide/spyder/master/img_src/spyder_readme_banner.png)"
   ]
  },
  {
   "cell_type": "markdown",
   "metadata": {},
   "source": [
    "# 5. Python VS Excel "
   ]
  },
  {
   "cell_type": "markdown",
   "metadata": {},
   "source": [
    "## - Reproductibilité \n",
    "### Les fonctions crées et les scripts peuvent être réutilisés à l'infini dans de nombreux projets. \n",
    "## - Scalabilité et efficacité \n",
    "### Python est immensément plus rapide qu'Excel, s'adapte au Big Data et peut être automatisé (plus simplement et plus efficacement qu'en VBA). Excel limité à 1 million de lignes et très lent avec un grand nombre de données.\n",
    "## - Deep Learning/Machine Learning \n",
    "### Python peut être utilisé en Deep Learning/Machine Learning pour créer des modèles de prédiction et de simulation. \n",
    "## - Intégration \n",
    "### Python peut être intéragir avec de nombreux logiciels extérieurs, avec des APIs, des bases de données SQL et peut donc être automatisé pour collecter les données, les analyser, les visualiser et les sauvegarder. \n",
    "## - Analyse et Visualisation de données très poussées\n",
    "\n",
    "![alt_text](https://www.fusioncharts.com/blog/wp-content/uploads/2018/05/geoplotlib-python-data-visualization-libraries-fusioncharts.png) \n",
    "![alt_text](https://2.bp.blogspot.com/-ZCnG08W6zSY/W-qgJ-XKRYI/AAAAAAAALdY/pgbhuYEFAVo37cOBZPkX98K0j9bzeO0hACLcBGAs/s1600/plot_surface_animation_funcanimation_r.gif)\n",
    "![alt_text](https://www.shanelynn.ie/wp-content/uploads/2019/05/data-visualisation-python-wall-street-journal-job-trend.png)"
   ]
  },
  {
   "cell_type": "markdown",
   "metadata": {},
   "source": [
    "# 6. SQL VS Access"
   ]
  },
  {
   "cell_type": "markdown",
   "metadata": {},
   "source": [
    "### Access n'est pratiquement pas utilisé dans les entreprises."
   ]
  },
  {
   "cell_type": "markdown",
   "metadata": {},
   "source": [
    "### Peu sécurisé, Access fonctionne en local à partir d'un fichier, ça n'est pas un SGBD client/serveur. \n",
    "### Une base de donnée sur Access ne peut peser que 2 Go maximum.\n",
    "### Access ne peut pas réaliser de requêtes complexes. \n",
    "## 6.1 Quelles sont les bases de données les plus utilisées en entreprise ? \n",
    "![alt_text](data:image/png;base64,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)\n",
    "![alt_text](https://www.inwise.com/wp-content/uploads/2017/04/mysql.png) \n",
    "![alt_text](https://phgeiger.files.wordpress.com/2011/06/logo-sql-server-horizontal.png?w=584) \n",
    "![alt_text](https://d1.awsstatic.com/rdsImages/postgresql_logo.6de4615badd99412268bc6aa8fc958a0f403dd41.png)\n",
    "![alt_text](https://certificacaobd.com.br/wp-content/uploads/2012/05/db2_dest.png)"
   ]
  },
  {
   "cell_type": "markdown",
   "metadata": {},
   "source": [
    "# Introduction à la manipulation de données : \n",
    "# 7. Exemple simple de requête SQL sur le SGBD IBM DB2 on Cloud\n",
    "\n",
    "### Création d'une table de produits comprenant des données indispensables du département Approvisionnement\n",
    "![alt_text](http://image.noelshack.com/fichiers/2020/15/7/1586717521-sql.png)"
   ]
  },
  {
   "cell_type": "markdown",
   "metadata": {},
   "source": [
    "# 8. Exemple simple d'automatisation de gestion des approvisionnements avec Python à partir d'une base de donnée SQL. \n",
    "\n",
    "## 8.1 Création d'un fonction (suite d'instructions)\n",
    "#### Définir des arguments (provenant des colonnes de notre base de donnée SQL) \n",
    "#### Calcul du stock de sécurité (selon la loi normale avec variation de la demande et du délai de livraison).\n",
    "#### Calcul du point de commande (déclanchement des commandes).\n",
    "#### Calcul de la formule de Wilson (quantité optimale à commander afin d'optimiser les coûts logistiques).\n",
    "#### Calcul du nombre de commandes par an.\n",
    "#### Calcul de la fréquence d'approvisionnement (en jours). "
   ]
  },
  {
   "cell_type": "code",
   "execution_count": 8,
   "metadata": {},
   "outputs": [],
   "source": [
    "#Le stock de sécurité : SS = Z x √(D x σV²) + (VMh² x σD²) avec √ = racine carrée\n",
    "#SS = 1,65 x racine carrée [(2x9²) + (75²x0.4²)] = 53 pots\n",
    " \n",
    "#Le point de commande : P = (Demande moyenne hebdomadaire x nombre de semaines) + SS\n",
    "#P = (75 x 2) + 53 = 203 pots\n",
    "\n",
    "from math import *\n",
    "# NO_P = Numéro produit  #agruments\n",
    "# DemA = Demande Annuelle \n",
    "# DemM = Demande Mensuelle\n",
    "# ETdem = Ecartype demande mensuelle\n",
    "# DelA = Délai Approvisionnement mensuel (1 mois = 30 jours)\n",
    "# ETdelA = Ecartype délai approvisionnement mensuel \n",
    "# TS = Taux satisfaction  Z = 1,65 qui correspond à un taux de 95,05%\n",
    "# CL = Coût lancement d'une commande \n",
    "# CS = Coût de stockage \n",
    "\n",
    "def gestion_appro(NumO,DemA,CL,CS,DemM,ETdem,DelA,ETdelA,TS):  #fonction \n",
    "    \n",
    "    print(\"~~~~~~~~~~~~ Produit n° \", int(NumO),\"~~~~~~~~~~~~\") #instructions\n",
    "    \n",
    "    print('') \n",
    "    \n",
    "    calcul_SS=(TS*sqrt((DelA*ETdem**2)+(DemM*ETdelA)**2)) \n",
    "    print(\"Stock de sécurité:\",int(calcul_SS))\n",
    "    \n",
    "    calcul_PC=(calcul_SS+DemM*DelA)\n",
    "    print(\"Point de commande:\",int(calcul_PC))\n",
    "    \n",
    "    calcul_wilson= round((sqrt((2*DemA*CL)/CS)))\n",
    "    print(\"Quantité économique de commande:\",calcul_wilson)\n",
    "    \n",
    "    calcul_nbr_comm_an=round((DemA/calcul_wilson))\n",
    "    print(\"Nous devons passer\",calcul_nbr_comm_an, \"commandes par an\")\n",
    "    \n",
    "    calcul_freq_comm=round((365/calcul_nbr_comm_an))\n",
    "    print(\"On doit commander tous les\", calcul_freq_comm,\"jours\")\n",
    "    \n",
    "    print(\"\")\n"
   ]
  },
  {
   "cell_type": "markdown",
   "metadata": {},
   "source": [
    "## 8.2 Output\n",
    "\n",
    "#### Calcul simple pour un seul produit "
   ]
  },
  {
   "cell_type": "code",
   "execution_count": 7,
   "metadata": {},
   "outputs": [
    {
     "name": "stdout",
     "output_type": "stream",
     "text": [
      "~~~~~~~~~~~~ Produit n°  1 ~~~~~~~~~~~~\n",
      "\n",
      "Stock de sécurité: 175\n",
      "Point de commande: 675\n",
      "Quantité économique de commande: 1833\n",
      "Nous devons passer 7 commandes par an\n",
      "On doit commander tous les 52 jours\n",
      "\n"
     ]
    }
   ],
   "source": [
    "gestion_appro(1,12000,700,5,1000,50,0.5,0.1,1.65)"
   ]
  },
  {
   "cell_type": "markdown",
   "metadata": {},
   "source": [
    "## 8.3 Importatation de la librairie Pandas et de notre fichier .csv"
   ]
  },
  {
   "cell_type": "code",
   "execution_count": 3,
   "metadata": {},
   "outputs": [
    {
     "data": {
      "text/html": [
       "<div>\n",
       "<style scoped>\n",
       "    .dataframe tbody tr th:only-of-type {\n",
       "        vertical-align: middle;\n",
       "    }\n",
       "\n",
       "    .dataframe tbody tr th {\n",
       "        vertical-align: top;\n",
       "    }\n",
       "\n",
       "    .dataframe thead th {\n",
       "        text-align: right;\n",
       "    }\n",
       "</style>\n",
       "<table border=\"1\" class=\"dataframe\">\n",
       "  <thead>\n",
       "    <tr style=\"text-align: right;\">\n",
       "      <th></th>\n",
       "      <th>NO_PRODUIT</th>\n",
       "      <th>DEMANDE_ANNUELLE</th>\n",
       "      <th>COUT_LANCEMENT</th>\n",
       "      <th>COUT_STOCKAGE</th>\n",
       "      <th>DEMANDE_MENSUELLE</th>\n",
       "      <th>ECARTYPE_DEMANDEMENS</th>\n",
       "      <th>DÉLAI_APPROMENS</th>\n",
       "      <th>ECARTYPE_DELAI_APPROMENS</th>\n",
       "      <th>TAUX_SATISFACTION</th>\n",
       "    </tr>\n",
       "  </thead>\n",
       "  <tbody>\n",
       "    <tr>\n",
       "      <th>0</th>\n",
       "      <td>1</td>\n",
       "      <td>12000.0</td>\n",
       "      <td>43.0</td>\n",
       "      <td>2.85</td>\n",
       "      <td>1000.0</td>\n",
       "      <td>141.4</td>\n",
       "      <td>1.15</td>\n",
       "      <td>0.14</td>\n",
       "      <td>1.28</td>\n",
       "    </tr>\n",
       "    <tr>\n",
       "      <th>1</th>\n",
       "      <td>2</td>\n",
       "      <td>900.0</td>\n",
       "      <td>50.0</td>\n",
       "      <td>5.00</td>\n",
       "      <td>75.0</td>\n",
       "      <td>9.0</td>\n",
       "      <td>2.00</td>\n",
       "      <td>0.40</td>\n",
       "      <td>1.65</td>\n",
       "    </tr>\n",
       "    <tr>\n",
       "      <th>2</th>\n",
       "      <td>3</td>\n",
       "      <td>900.0</td>\n",
       "      <td>50.0</td>\n",
       "      <td>5.00</td>\n",
       "      <td>75.0</td>\n",
       "      <td>9.0</td>\n",
       "      <td>2.00</td>\n",
       "      <td>0.40</td>\n",
       "      <td>1.65</td>\n",
       "    </tr>\n",
       "    <tr>\n",
       "      <th>3</th>\n",
       "      <td>4</td>\n",
       "      <td>900.0</td>\n",
       "      <td>50.0</td>\n",
       "      <td>5.00</td>\n",
       "      <td>75.0</td>\n",
       "      <td>9.0</td>\n",
       "      <td>2.00</td>\n",
       "      <td>0.40</td>\n",
       "      <td>1.65</td>\n",
       "    </tr>\n",
       "    <tr>\n",
       "      <th>4</th>\n",
       "      <td>5</td>\n",
       "      <td>900.0</td>\n",
       "      <td>50.0</td>\n",
       "      <td>5.00</td>\n",
       "      <td>75.0</td>\n",
       "      <td>9.0</td>\n",
       "      <td>2.00</td>\n",
       "      <td>0.40</td>\n",
       "      <td>1.65</td>\n",
       "    </tr>\n",
       "  </tbody>\n",
       "</table>\n",
       "</div>"
      ],
      "text/plain": [
       "   NO_PRODUIT  DEMANDE_ANNUELLE  COUT_LANCEMENT  COUT_STOCKAGE  \\\n",
       "0           1           12000.0            43.0           2.85   \n",
       "1           2             900.0            50.0           5.00   \n",
       "2           3             900.0            50.0           5.00   \n",
       "3           4             900.0            50.0           5.00   \n",
       "4           5             900.0            50.0           5.00   \n",
       "\n",
       "   DEMANDE_MENSUELLE  ECARTYPE_DEMANDEMENS  DÉLAI_APPROMENS  \\\n",
       "0             1000.0                 141.4             1.15   \n",
       "1               75.0                   9.0             2.00   \n",
       "2               75.0                   9.0             2.00   \n",
       "3               75.0                   9.0             2.00   \n",
       "4               75.0                   9.0             2.00   \n",
       "\n",
       "   ECARTYPE_DELAI_APPROMENS  TAUX_SATISFACTION  \n",
       "0                      0.14               1.28  \n",
       "1                      0.40               1.65  \n",
       "2                      0.40               1.65  \n",
       "3                      0.40               1.65  \n",
       "4                      0.40               1.65  "
      ]
     },
     "execution_count": 3,
     "metadata": {},
     "output_type": "execute_result"
    }
   ],
   "source": [
    "import pandas as pd     #on importe la librairie pandas \n",
    "\n",
    "csv_path='Logistique.csv'     \n",
    "df=pd.read_csv(csv_path)  #on importe le fichier csv provenant notre base de donnée sql\n",
    "df.head(5)                # on affiche les 5 premiers éléments de notre dataframe"
   ]
  },
  {
   "cell_type": "markdown",
   "metadata": {},
   "source": [
    "## 8.4 Boucle for qui va répéter notre suite d'instructions pour chaque produit dans notre DataFrame. "
   ]
  },
  {
   "cell_type": "code",
   "execution_count": 4,
   "metadata": {},
   "outputs": [
    {
     "name": "stdout",
     "output_type": "stream",
     "text": [
      "~~~~~~~~~~~~ Produit n°  1 ~~~~~~~~~~~~\n",
      "\n",
      "Stock de sécurité: 264\n",
      "Point de commande: 1414\n",
      "Quantité économique de commande: 602\n",
      "Nous devons passer 20.0 commandes par an\n",
      "On doit commander tous les 18.0 jours\n",
      "\n",
      "~~~~~~~~~~~~ Produit n°  2 ~~~~~~~~~~~~\n",
      "\n",
      "Stock de sécurité: 53\n",
      "Point de commande: 203\n",
      "Quantité économique de commande: 134\n",
      "Nous devons passer 7.0 commandes par an\n",
      "On doit commander tous les 52.0 jours\n",
      "\n",
      "~~~~~~~~~~~~ Produit n°  3 ~~~~~~~~~~~~\n",
      "\n",
      "Stock de sécurité: 53\n",
      "Point de commande: 203\n",
      "Quantité économique de commande: 134\n",
      "Nous devons passer 7.0 commandes par an\n",
      "On doit commander tous les 52.0 jours\n",
      "\n",
      "~~~~~~~~~~~~ Produit n°  4 ~~~~~~~~~~~~\n",
      "\n",
      "Stock de sécurité: 53\n",
      "Point de commande: 203\n",
      "Quantité économique de commande: 134\n",
      "Nous devons passer 7.0 commandes par an\n",
      "On doit commander tous les 52.0 jours\n",
      "\n",
      "~~~~~~~~~~~~ Produit n°  5 ~~~~~~~~~~~~\n",
      "\n",
      "Stock de sécurité: 53\n",
      "Point de commande: 203\n",
      "Quantité économique de commande: 134\n",
      "Nous devons passer 7.0 commandes par an\n",
      "On doit commander tous les 52.0 jours\n",
      "\n",
      "~~~~~~~~~~~~ Produit n°  6 ~~~~~~~~~~~~\n",
      "\n",
      "Stock de sécurité: 53\n",
      "Point de commande: 203\n",
      "Quantité économique de commande: 134\n",
      "Nous devons passer 7.0 commandes par an\n",
      "On doit commander tous les 52.0 jours\n",
      "\n",
      "~~~~~~~~~~~~ Produit n°  7 ~~~~~~~~~~~~\n",
      "\n",
      "Stock de sécurité: 53\n",
      "Point de commande: 203\n",
      "Quantité économique de commande: 134\n",
      "Nous devons passer 7.0 commandes par an\n",
      "On doit commander tous les 52.0 jours\n",
      "\n",
      "~~~~~~~~~~~~ Produit n°  8 ~~~~~~~~~~~~\n",
      "\n",
      "Stock de sécurité: 53\n",
      "Point de commande: 203\n",
      "Quantité économique de commande: 134\n",
      "Nous devons passer 7.0 commandes par an\n",
      "On doit commander tous les 52.0 jours\n",
      "\n",
      "~~~~~~~~~~~~ Produit n°  9 ~~~~~~~~~~~~\n",
      "\n",
      "Stock de sécurité: 53\n",
      "Point de commande: 203\n",
      "Quantité économique de commande: 134\n",
      "Nous devons passer 7.0 commandes par an\n",
      "On doit commander tous les 52.0 jours\n",
      "\n",
      "~~~~~~~~~~~~ Produit n°  10 ~~~~~~~~~~~~\n",
      "\n",
      "Stock de sécurité: 53\n",
      "Point de commande: 203\n",
      "Quantité économique de commande: 134\n",
      "Nous devons passer 7.0 commandes par an\n",
      "On doit commander tous les 52.0 jours\n",
      "\n",
      "~~~~~~~~~~~~ Produit n°  11 ~~~~~~~~~~~~\n",
      "\n",
      "Stock de sécurité: 53\n",
      "Point de commande: 203\n",
      "Quantité économique de commande: 134\n",
      "Nous devons passer 7.0 commandes par an\n",
      "On doit commander tous les 52.0 jours\n",
      "\n",
      "~~~~~~~~~~~~ Produit n°  12 ~~~~~~~~~~~~\n",
      "\n",
      "Stock de sécurité: 53\n",
      "Point de commande: 203\n",
      "Quantité économique de commande: 134\n",
      "Nous devons passer 7.0 commandes par an\n",
      "On doit commander tous les 52.0 jours\n",
      "\n",
      "~~~~~~~~~~~~ Produit n°  13 ~~~~~~~~~~~~\n",
      "\n",
      "Stock de sécurité: 53\n",
      "Point de commande: 203\n",
      "Quantité économique de commande: 134\n",
      "Nous devons passer 7.0 commandes par an\n",
      "On doit commander tous les 52.0 jours\n",
      "\n",
      "~~~~~~~~~~~~ Produit n°  14 ~~~~~~~~~~~~\n",
      "\n",
      "Stock de sécurité: 53\n",
      "Point de commande: 203\n",
      "Quantité économique de commande: 134\n",
      "Nous devons passer 7.0 commandes par an\n",
      "On doit commander tous les 52.0 jours\n",
      "\n",
      "~~~~~~~~~~~~ Produit n°  15 ~~~~~~~~~~~~\n",
      "\n",
      "Stock de sécurité: 53\n",
      "Point de commande: 203\n",
      "Quantité économique de commande: 134\n",
      "Nous devons passer 7.0 commandes par an\n",
      "On doit commander tous les 52.0 jours\n",
      "\n",
      "~~~~~~~~~~~~ Produit n°  16 ~~~~~~~~~~~~\n",
      "\n",
      "Stock de sécurité: 53\n",
      "Point de commande: 203\n",
      "Quantité économique de commande: 134\n",
      "Nous devons passer 7.0 commandes par an\n",
      "On doit commander tous les 52.0 jours\n",
      "\n",
      "~~~~~~~~~~~~ Produit n°  17 ~~~~~~~~~~~~\n",
      "\n",
      "Stock de sécurité: 53\n",
      "Point de commande: 203\n",
      "Quantité économique de commande: 134\n",
      "Nous devons passer 7.0 commandes par an\n",
      "On doit commander tous les 52.0 jours\n",
      "\n",
      "~~~~~~~~~~~~ Produit n°  18 ~~~~~~~~~~~~\n",
      "\n",
      "Stock de sécurité: 53\n",
      "Point de commande: 203\n",
      "Quantité économique de commande: 134\n",
      "Nous devons passer 7.0 commandes par an\n",
      "On doit commander tous les 52.0 jours\n",
      "\n",
      "~~~~~~~~~~~~ Produit n°  19 ~~~~~~~~~~~~\n",
      "\n",
      "Stock de sécurité: 53\n",
      "Point de commande: 203\n",
      "Quantité économique de commande: 134\n",
      "Nous devons passer 7.0 commandes par an\n",
      "On doit commander tous les 52.0 jours\n",
      "\n",
      "~~~~~~~~~~~~ Produit n°  20 ~~~~~~~~~~~~\n",
      "\n",
      "Stock de sécurité: 53\n",
      "Point de commande: 203\n",
      "Quantité économique de commande: 134\n",
      "Nous devons passer 7.0 commandes par an\n",
      "On doit commander tous les 52.0 jours\n",
      "\n"
     ]
    }
   ],
   "source": [
    "for i, j in df.iterrows(): #on crée une boucle for qui va itérer pour chaque produit dans notre df la série de calculs définis plus haut.\n",
    "    gestion_appro(j['NO_PRODUIT'], j['DEMANDE_ANNUELLE'], j['COUT_LANCEMENT'], j['COUT_STOCKAGE'], j['DEMANDE_MENSUELLE'], j['ECARTYPE_DEMANDEMENS'], j['DÉLAI_APPROMENS'], j['ECARTYPE_DELAI_APPROMENS'], j['TAUX_SATISFACTION'])"
   ]
  },
  {
   "cell_type": "markdown",
   "metadata": {},
   "source": [
    "## Ce petit programme répète l'opération sur 20 produits en un seul clic ! \n",
    "## Si la base de données comprenait 3 millions de produits, on aurait également pu l'utiliser en un seul clic. Voici donc un exemple concret d'automatisation d'une activité qui pourraît être adapté pour n'importe quel type de calcul, plus ou moins complexe sur n'importe quelle base de données."
   ]
  },
  {
   "cell_type": "markdown",
   "metadata": {},
   "source": [
    "## 8.5 Avancé : Exporter les résultats obtenus sous forme d'un nouveau dataframe en .csv"
   ]
  },
  {
   "cell_type": "code",
   "execution_count": 5,
   "metadata": {},
   "outputs": [
    {
     "data": {
      "text/html": [
       "<div>\n",
       "<style scoped>\n",
       "    .dataframe tbody tr th:only-of-type {\n",
       "        vertical-align: middle;\n",
       "    }\n",
       "\n",
       "    .dataframe tbody tr th {\n",
       "        vertical-align: top;\n",
       "    }\n",
       "\n",
       "    .dataframe thead th {\n",
       "        text-align: right;\n",
       "    }\n",
       "</style>\n",
       "<table border=\"1\" class=\"dataframe\">\n",
       "  <thead>\n",
       "    <tr style=\"text-align: right;\">\n",
       "      <th></th>\n",
       "      <th>calcul_SS</th>\n",
       "      <th>calcul_PC</th>\n",
       "      <th>calcul_wilson</th>\n",
       "      <th>calcul_nbr_comm_an</th>\n",
       "      <th>calcul_freq_comm</th>\n",
       "    </tr>\n",
       "  </thead>\n",
       "  <tbody>\n",
       "    <tr>\n",
       "      <th>0</th>\n",
       "      <td>264.167484</td>\n",
       "      <td>1414.167484</td>\n",
       "      <td>602.0</td>\n",
       "      <td>20.0</td>\n",
       "      <td>18.0</td>\n",
       "    </tr>\n",
       "    <tr>\n",
       "      <th>1</th>\n",
       "      <td>53.770763</td>\n",
       "      <td>203.770763</td>\n",
       "      <td>134.0</td>\n",
       "      <td>7.0</td>\n",
       "      <td>52.0</td>\n",
       "    </tr>\n",
       "    <tr>\n",
       "      <th>2</th>\n",
       "      <td>53.770763</td>\n",
       "      <td>203.770763</td>\n",
       "      <td>134.0</td>\n",
       "      <td>7.0</td>\n",
       "      <td>52.0</td>\n",
       "    </tr>\n",
       "    <tr>\n",
       "      <th>3</th>\n",
       "      <td>53.770763</td>\n",
       "      <td>203.770763</td>\n",
       "      <td>134.0</td>\n",
       "      <td>7.0</td>\n",
       "      <td>52.0</td>\n",
       "    </tr>\n",
       "    <tr>\n",
       "      <th>4</th>\n",
       "      <td>53.770763</td>\n",
       "      <td>203.770763</td>\n",
       "      <td>134.0</td>\n",
       "      <td>7.0</td>\n",
       "      <td>52.0</td>\n",
       "    </tr>\n",
       "    <tr>\n",
       "      <th>5</th>\n",
       "      <td>53.770763</td>\n",
       "      <td>203.770763</td>\n",
       "      <td>134.0</td>\n",
       "      <td>7.0</td>\n",
       "      <td>52.0</td>\n",
       "    </tr>\n",
       "    <tr>\n",
       "      <th>6</th>\n",
       "      <td>53.770763</td>\n",
       "      <td>203.770763</td>\n",
       "      <td>134.0</td>\n",
       "      <td>7.0</td>\n",
       "      <td>52.0</td>\n",
       "    </tr>\n",
       "    <tr>\n",
       "      <th>7</th>\n",
       "      <td>53.770763</td>\n",
       "      <td>203.770763</td>\n",
       "      <td>134.0</td>\n",
       "      <td>7.0</td>\n",
       "      <td>52.0</td>\n",
       "    </tr>\n",
       "    <tr>\n",
       "      <th>8</th>\n",
       "      <td>53.770763</td>\n",
       "      <td>203.770763</td>\n",
       "      <td>134.0</td>\n",
       "      <td>7.0</td>\n",
       "      <td>52.0</td>\n",
       "    </tr>\n",
       "    <tr>\n",
       "      <th>9</th>\n",
       "      <td>53.770763</td>\n",
       "      <td>203.770763</td>\n",
       "      <td>134.0</td>\n",
       "      <td>7.0</td>\n",
       "      <td>52.0</td>\n",
       "    </tr>\n",
       "    <tr>\n",
       "      <th>10</th>\n",
       "      <td>53.770763</td>\n",
       "      <td>203.770763</td>\n",
       "      <td>134.0</td>\n",
       "      <td>7.0</td>\n",
       "      <td>52.0</td>\n",
       "    </tr>\n",
       "    <tr>\n",
       "      <th>11</th>\n",
       "      <td>53.770763</td>\n",
       "      <td>203.770763</td>\n",
       "      <td>134.0</td>\n",
       "      <td>7.0</td>\n",
       "      <td>52.0</td>\n",
       "    </tr>\n",
       "    <tr>\n",
       "      <th>12</th>\n",
       "      <td>53.770763</td>\n",
       "      <td>203.770763</td>\n",
       "      <td>134.0</td>\n",
       "      <td>7.0</td>\n",
       "      <td>52.0</td>\n",
       "    </tr>\n",
       "    <tr>\n",
       "      <th>13</th>\n",
       "      <td>53.770763</td>\n",
       "      <td>203.770763</td>\n",
       "      <td>134.0</td>\n",
       "      <td>7.0</td>\n",
       "      <td>52.0</td>\n",
       "    </tr>\n",
       "    <tr>\n",
       "      <th>14</th>\n",
       "      <td>53.770763</td>\n",
       "      <td>203.770763</td>\n",
       "      <td>134.0</td>\n",
       "      <td>7.0</td>\n",
       "      <td>52.0</td>\n",
       "    </tr>\n",
       "    <tr>\n",
       "      <th>15</th>\n",
       "      <td>53.770763</td>\n",
       "      <td>203.770763</td>\n",
       "      <td>134.0</td>\n",
       "      <td>7.0</td>\n",
       "      <td>52.0</td>\n",
       "    </tr>\n",
       "    <tr>\n",
       "      <th>16</th>\n",
       "      <td>53.770763</td>\n",
       "      <td>203.770763</td>\n",
       "      <td>134.0</td>\n",
       "      <td>7.0</td>\n",
       "      <td>52.0</td>\n",
       "    </tr>\n",
       "    <tr>\n",
       "      <th>17</th>\n",
       "      <td>53.770763</td>\n",
       "      <td>203.770763</td>\n",
       "      <td>134.0</td>\n",
       "      <td>7.0</td>\n",
       "      <td>52.0</td>\n",
       "    </tr>\n",
       "    <tr>\n",
       "      <th>18</th>\n",
       "      <td>53.770763</td>\n",
       "      <td>203.770763</td>\n",
       "      <td>134.0</td>\n",
       "      <td>7.0</td>\n",
       "      <td>52.0</td>\n",
       "    </tr>\n",
       "    <tr>\n",
       "      <th>19</th>\n",
       "      <td>53.770763</td>\n",
       "      <td>203.770763</td>\n",
       "      <td>134.0</td>\n",
       "      <td>7.0</td>\n",
       "      <td>52.0</td>\n",
       "    </tr>\n",
       "  </tbody>\n",
       "</table>\n",
       "</div>"
      ],
      "text/plain": [
       "     calcul_SS    calcul_PC  calcul_wilson  calcul_nbr_comm_an  \\\n",
       "0   264.167484  1414.167484          602.0                20.0   \n",
       "1    53.770763   203.770763          134.0                 7.0   \n",
       "2    53.770763   203.770763          134.0                 7.0   \n",
       "3    53.770763   203.770763          134.0                 7.0   \n",
       "4    53.770763   203.770763          134.0                 7.0   \n",
       "5    53.770763   203.770763          134.0                 7.0   \n",
       "6    53.770763   203.770763          134.0                 7.0   \n",
       "7    53.770763   203.770763          134.0                 7.0   \n",
       "8    53.770763   203.770763          134.0                 7.0   \n",
       "9    53.770763   203.770763          134.0                 7.0   \n",
       "10   53.770763   203.770763          134.0                 7.0   \n",
       "11   53.770763   203.770763          134.0                 7.0   \n",
       "12   53.770763   203.770763          134.0                 7.0   \n",
       "13   53.770763   203.770763          134.0                 7.0   \n",
       "14   53.770763   203.770763          134.0                 7.0   \n",
       "15   53.770763   203.770763          134.0                 7.0   \n",
       "16   53.770763   203.770763          134.0                 7.0   \n",
       "17   53.770763   203.770763          134.0                 7.0   \n",
       "18   53.770763   203.770763          134.0                 7.0   \n",
       "19   53.770763   203.770763          134.0                 7.0   \n",
       "\n",
       "    calcul_freq_comm  \n",
       "0               18.0  \n",
       "1               52.0  \n",
       "2               52.0  \n",
       "3               52.0  \n",
       "4               52.0  \n",
       "5               52.0  \n",
       "6               52.0  \n",
       "7               52.0  \n",
       "8               52.0  \n",
       "9               52.0  \n",
       "10              52.0  \n",
       "11              52.0  \n",
       "12              52.0  \n",
       "13              52.0  \n",
       "14              52.0  \n",
       "15              52.0  \n",
       "16              52.0  \n",
       "17              52.0  \n",
       "18              52.0  \n",
       "19              52.0  "
      ]
     },
     "execution_count": 5,
     "metadata": {},
     "output_type": "execute_result"
    }
   ],
   "source": [
    "from math import *\n",
    "import pandas as pd\n",
    "\n",
    "def stock_row(NumO,DemA,CL,CS,DemM,ETdem,DelA,ETdelA,TS):\n",
    "    calcul_SS=(TS*sqrt((DelA*ETdem**2)+(DemM*ETdelA)**2))\n",
    "    calcul_PC=(calcul_SS+DemM*DelA)\n",
    "    calcul_wilson= round((sqrt((2*DemA*CL)/CS)))\n",
    "    calcul_nbr_comm_an=round((DemA/calcul_wilson))\n",
    "    calcul_freq_comm=round((365/calcul_nbr_comm_an))\n",
    "    row = {\n",
    "        'calcul_SS':calcul_SS,\n",
    "        'calcul_PC':calcul_PC,\n",
    "        'calcul_wilson':calcul_wilson,\n",
    "        'calcul_nbr_comm_an':calcul_nbr_comm_an,\n",
    "        'calcul_freq_comm':calcul_freq_comm\n",
    "    }\n",
    "    return row\n",
    "\n",
    "df2 = pd.DataFrame(columns=['calcul_SS', 'calcul_PC', 'calcul_wilson', 'calcul_nbr_comm_an','calcul_freq_comm'])\n",
    "\n",
    "csv_path='Logistique.csv'\n",
    "df=pd.read_csv(csv_path)\n",
    "\n",
    "for i,j in df.iterrows():\n",
    "    df2 = df2.append(stock_row(j['NO_PRODUIT'],\n",
    "                        j['DEMANDE_ANNUELLE'],\n",
    "                        j['COUT_LANCEMENT'],\n",
    "                        j['COUT_STOCKAGE'],\n",
    "                        j['DEMANDE_MENSUELLE'],\n",
    "                        j['ECARTYPE_DEMANDEMENS'],\n",
    "                        j['DÉLAI_APPROMENS'],\n",
    "                        j['ECARTYPE_DELAI_APPROMENS'],\n",
    "                        j['TAUX_SATISFACTION']), ignore_index=True)\n",
    "df2"
   ]
  },
  {
   "cell_type": "markdown",
   "metadata": {},
   "source": [
    "# 8.6 Exporter en .csv  "
   ]
  },
  {
   "cell_type": "code",
   "execution_count": 19,
   "metadata": {},
   "outputs": [],
   "source": [
    "df2.to_csv('Stratégie_Stock')"
   ]
  },
  {
   "cell_type": "markdown",
   "metadata": {},
   "source": [
    "# 9. Se former en Data Science en autodidacte ? "
   ]
  },
  {
   "cell_type": "markdown",
   "metadata": {},
   "source": [
    "![alt_text](data:image/png;base64,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)"
   ]
  },
  {
   "cell_type": "markdown",
   "metadata": {},
   "source": [
    "![alt_text](https://pic.clubic.com/v1/images/1711730/raw?width=1200&fit=max&hash=5148ccb358b598cae3abe77727432f8e9415ca1f)"
   ]
  },
  {
   "cell_type": "markdown",
   "metadata": {},
   "source": [
    "![alt_text](https://vtk.ugent.be/media/thumbs/logos/logo_datacamp.png.960x540_q85_crop-scale_upscale.png)"
   ]
  },
  {
   "cell_type": "markdown",
   "metadata": {},
   "source": [
    "![alt_text](https://consent.trustarc.com/get?name=oc_logo.png)"
   ]
  },
  {
   "cell_type": "markdown",
   "metadata": {},
   "source": [
    "![alt_text](https://www.creads.fr/app/uploads/sites/1/2017/08/youtube.png)"
   ]
  },
  {
   "cell_type": "markdown",
   "metadata": {},
   "source": [
    "![alt_text](https://www.webdesignerdepot.com/cdn-origin/uploads/2017/08/logotype-monogram.png)"
   ]
  },
  {
   "cell_type": "markdown",
   "metadata": {},
   "source": [
    "![alt_text](https://www.kaggle.com/static/images/site-logo.png)"
   ]
  },
  {
   "cell_type": "markdown",
   "metadata": {},
   "source": [
    "\n",
    "# [Top 20 Data Science Blogs And Websites For Data Scientists](https://medium.com/@exastax/top-20-data-science-blogs-and-websites-for-data-scientists-d88b7d99740)"
   ]
  },
  {
   "cell_type": "markdown",
   "metadata": {},
   "source": [
    "# 10. Les outils Data science et Business Intelligence pour non programmeur. "
   ]
  },
  {
   "cell_type": "markdown",
   "metadata": {},
   "source": [
    "![alt_text](https://www.existbi.com/wp-content/uploads/2018/12/Tableau-Software.png)"
   ]
  },
  {
   "cell_type": "markdown",
   "metadata": {},
   "source": [
    "![alt_text](https://3er1viui9wo30pkxh1v2nh4w-wpengine.netdna-ssl.com/wp-content/uploads/sites/113/2017/06/power-bi-logo.jpg)"
   ]
  },
  {
   "cell_type": "markdown",
   "metadata": {},
   "source": [
    "![alt_text](https://www.opso.fr/images/2019/10/28/qlik2019.png)"
   ]
  },
  {
   "cell_type": "markdown",
   "metadata": {},
   "source": [
    "![alt_text](https://www.stat4decision.com/wp-content/uploads/2015/06/Rapidminer_logo-e1435301276900.jpg)"
   ]
  },
  {
   "cell_type": "markdown",
   "metadata": {},
   "source": [
    "![alt_text](https://infotopics.nl/wp-content/uploads/2018/01/datarobot.jpg)"
   ]
  },
  {
   "cell_type": "markdown",
   "metadata": {},
   "source": [
    "# [Top 10 Data Science & ML Tools for Non-Programmers](https://towardsdatascience.com/top-10-data-science-ml-tools-for-non-programmers-d12ce6dcccc)"
   ]
  },
  {
   "cell_type": "code",
   "execution_count": null,
   "metadata": {},
   "outputs": [],
   "source": []
  }
 ],
 "metadata": {
  "kernelspec": {
   "display_name": "Python 3",
   "language": "python",
   "name": "python3"
  },
  "language_info": {
   "codemirror_mode": {
    "name": "ipython",
    "version": 3
   },
   "file_extension": ".py",
   "mimetype": "text/x-python",
   "name": "python",
   "nbconvert_exporter": "python",
   "pygments_lexer": "ipython3",
   "version": "3.7.6"
  }
 },
 "nbformat": 4,
 "nbformat_minor": 4
}
